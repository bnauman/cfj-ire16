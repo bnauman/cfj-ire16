{
 "cells": [
  {
   "cell_type": "markdown",
   "metadata": {},
   "source": [
    "# Cleaning up a CSV file with code\n",
    "\n",
    "We have a CSV file that needs some attention before we analyze it. We also want to weed out some records unrelated to expenditures that we don't need.\n",
    "\n",
    "Import two libraries for this job: `csv` and `re`."
   ]
  },
  {
   "cell_type": "code",
   "execution_count": null,
   "metadata": {
    "collapsed": true
   },
   "outputs": [],
   "source": []
  },
  {
   "cell_type": "markdown",
   "metadata": {},
   "source": [
    "We need to get a CSV reader object spun up so that we can do something with the CSV file."
   ]
  },
  {
   "cell_type": "code",
   "execution_count": null,
   "metadata": {
    "collapsed": false
   },
   "outputs": [],
   "source": []
  },
  {
   "cell_type": "markdown",
   "metadata": {},
   "source": [
    "We've generally been interacting with CSV files by running straight through every row; we can also step through them line by line with `next()`. Let's take one step down into the file to grab headers; it also means when we run through the rest of the file, we'll start with the first data row."
   ]
  },
  {
   "cell_type": "code",
   "execution_count": null,
   "metadata": {
    "collapsed": true
   },
   "outputs": [],
   "source": []
  },
  {
   "cell_type": "markdown",
   "metadata": {},
   "source": [
    "We're going to go ahead and write a cleaning function to run on the rows of this file. Let's assess what we're going to need to fix. We'll only mess with columns that have problems.\n",
    "\n",
    "- **LASTONLYNAME** needs to be uppercase\n",
    "- FIRSTNAME\n",
    "- EXPENDEDDATE\n",
    "- **AMOUNT** suffers from whitespace and dollar signs\n",
    "- ADDRESS1\n",
    "- ADDRESS2\n",
    "- **CITY** contains some problematic spellings of 'Chicago' and non-breaking spaces for display (`&NBSP;`)\n",
    "- STATE\n",
    "- **ZIP** has leading zeros removed\n",
    "- EXPTYPE\n",
    "- **PURPOSE** has additional detail that can be split into another column and synonyms that can really be standardized for fewer categories during analysis\n",
    "- BENEFICIARY"
   ]
  },
  {
   "cell_type": "code",
   "execution_count": null,
   "metadata": {
    "collapsed": true
   },
   "outputs": [],
   "source": []
  },
  {
   "cell_type": "markdown",
   "metadata": {},
   "source": [
    "Our file is loaded and ready to go. We have a cleaning function. Let's fix the headers to match our file changes before we loose the function on the file."
   ]
  },
  {
   "cell_type": "code",
   "execution_count": null,
   "metadata": {
    "collapsed": true
   },
   "outputs": [],
   "source": []
  },
  {
   "cell_type": "markdown",
   "metadata": {},
   "source": [
    "Now we can go ahead and modify our rows before the hit a new file. We'll also check to see if they are expenditures; if so, we'll write them to the file."
   ]
  },
  {
   "cell_type": "code",
   "execution_count": null,
   "metadata": {
    "collapsed": false
   },
   "outputs": [],
   "source": []
  }
 ],
 "metadata": {
  "kernelspec": {
   "display_name": "Python 2",
   "language": "python",
   "name": "python2"
  },
  "language_info": {
   "codemirror_mode": {
    "name": "ipython",
    "version": 2
   },
   "file_extension": ".py",
   "mimetype": "text/x-python",
   "name": "python",
   "nbconvert_exporter": "python",
   "pygments_lexer": "ipython2",
   "version": "2.7.11"
  }
 },
 "nbformat": 4,
 "nbformat_minor": 0
}
