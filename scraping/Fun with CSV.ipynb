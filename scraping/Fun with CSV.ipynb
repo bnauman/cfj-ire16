{
 "cells": [
  {
   "cell_type": "markdown",
   "metadata": {},
   "source": [
    "# Fun with CSV files\n",
    "\n",
    "A common data format we know and love: delimited text files. Part of the standard library in Python deals specifically with CSVs (text files with Comma-Separated Values). This is just kind of modern shorthand for files with delimiters, and the csv library can deal with more than just commas.\n",
    "\n",
    "To gain access to csv, we need to import it for use in our script."
   ]
  },
  {
   "cell_type": "code",
   "execution_count": null,
   "metadata": {
    "collapsed": true
   },
   "outputs": [],
   "source": []
  },
  {
   "cell_type": "markdown",
   "metadata": {},
   "source": [
    "Let's try writing some stuff to a file first. Open a file and get a writer object started that will actually transcribe the data to the file. The writer will sit in a variable called output; sometimes characterizing files as being read \"in\" or written \"out\" can help you keep them straight in your head in terms of a naming convention for variables."
   ]
  },
  {
   "cell_type": "code",
   "execution_count": null,
   "metadata": {
    "collapsed": true
   },
   "outputs": [],
   "source": []
  },
  {
   "cell_type": "markdown",
   "metadata": {},
   "source": [
    "If you give a writer a list, it will turn it into a row in a CSV file for you. Let's Make a list with column headers and write it to the file: FIRSTNAME, LASTNAME, CITY."
   ]
  },
  {
   "cell_type": "code",
   "execution_count": null,
   "metadata": {
    "collapsed": true
   },
   "outputs": [],
   "source": []
  },
  {
   "cell_type": "markdown",
   "metadata": {},
   "source": [
    "Based on the headers, write two more rows to the file."
   ]
  },
  {
   "cell_type": "code",
   "execution_count": null,
   "metadata": {
    "collapsed": true
   },
   "outputs": [],
   "source": []
  },
  {
   "cell_type": "markdown",
   "metadata": {},
   "source": [
    "Close the file, otherwise the data may only be partially recorded. And by \"otherwise,\" I mean definitely."
   ]
  },
  {
   "cell_type": "code",
   "execution_count": null,
   "metadata": {
    "collapsed": true
   },
   "outputs": [],
   "source": []
  },
  {
   "cell_type": "markdown",
   "metadata": {},
   "source": [
    "So another thing we can do as far as opening a file, doing something with the contents and then closing it is using a slightly different syntax: with. Instead of having discrete steps for opening, reading/writing and closing a file like the example above, this automatically closes the file at the end of the indented code underneath. Not perfect for every situation, but it can be slightly more elegant sometimes."
   ]
  },
  {
   "cell_type": "code",
   "execution_count": null,
   "metadata": {
    "collapsed": false
   },
   "outputs": [],
   "source": []
  }
 ],
 "metadata": {
  "kernelspec": {
   "display_name": "Python 2",
   "language": "python",
   "name": "python2"
  },
  "language_info": {
   "codemirror_mode": {
    "name": "ipython",
    "version": 2
   },
   "file_extension": ".py",
   "mimetype": "text/x-python",
   "name": "python",
   "nbconvert_exporter": "python",
   "pygments_lexer": "ipython2",
   "version": "2.7.11"
  }
 },
 "nbformat": 4,
 "nbformat_minor": 0
}
