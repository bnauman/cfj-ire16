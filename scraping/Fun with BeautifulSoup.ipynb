{
 "cells": [
  {
   "cell_type": "markdown",
   "metadata": {},
   "source": [
    "# Fun with BeautifulSoup\n",
    "\n",
    "This is a quick primer on BeautifulSoup and some of its key abilities. The big advantage is that it's great at parsing different markup languages, like HTML. Think of it like a diving rod for text on a web page.\n",
    "\n",
    "For more, see the docs: http://www.crummy.com/software/BeautifulSoup/bs4/doc/\n",
    "\n",
    "The library has more than just BeautifulSoup, but let's just import that."
   ]
  },
  {
   "cell_type": "code",
   "execution_count": null,
   "metadata": {
    "collapsed": true
   },
   "outputs": [],
   "source": []
  },
  {
   "cell_type": "markdown",
   "metadata": {},
   "source": [
    "The sequence of events with BeautifulSoup:\n",
    "\n",
    "### 1. Open a file.\n",
    "\n",
    "In many cases, you'll be sending the content of a web page fetched by the requests library. In this example, we'll just open a file like we would any other and read it into a variable."
   ]
  },
  {
   "cell_type": "code",
   "execution_count": null,
   "metadata": {
    "collapsed": false
   },
   "outputs": [],
   "source": []
  },
  {
   "cell_type": "markdown",
   "metadata": {},
   "source": [
    "### 2. Make a BeautifulSoup object out of HTML file contents. \n",
    "\n",
    "This transforms the underlying HTML into something BeautifulSoup can navigate and parse."
   ]
  },
  {
   "cell_type": "code",
   "execution_count": null,
   "metadata": {
    "collapsed": true
   },
   "outputs": [],
   "source": []
  },
  {
   "cell_type": "markdown",
   "metadata": {},
   "source": [
    "#### 2a. Peek at the HTML that BS has gone to work on, if you'd like."
   ]
  },
  {
   "cell_type": "code",
   "execution_count": null,
   "metadata": {
    "collapsed": false,
    "scrolled": true
   },
   "outputs": [],
   "source": []
  },
  {
   "cell_type": "markdown",
   "metadata": {},
   "source": [
    "### 3. Isolate the information that you want to collect. \n",
    "\n",
    "This is where BS really shines. There are many different ways to dive into the markup \"tree\" outlined in the documentation, but this is an example of ferreting out one thing: HTML within `<table>` tags."
   ]
  },
  {
   "cell_type": "code",
   "execution_count": null,
   "metadata": {
    "collapsed": true
   },
   "outputs": [],
   "source": []
  },
  {
   "cell_type": "markdown",
   "metadata": {},
   "source": [
    "### 4. Start walking through this isolated information.\n",
    "\n",
    "For a table, the pattern generally dives into each row and then each cell. This is just one way to do it; we'll use a slightly different construction in our scraping task.\n",
    "\n",
    "We're basically going to recreate this pseudocode sequence with real code:\n",
    "\n",
    "```\n",
    "for each row in the table (identified by <tr> tags):\n",
    "    make an empty list to hold the text from cells\n",
    "    then, for each cell in the row (identified by either <th> or <td> tags):\n",
    "        append the text for that cell to the empty list\n",
    "    finally, print those list contents on one line, connect them with commas\n",
    "```"
   ]
  },
  {
   "cell_type": "code",
   "execution_count": null,
   "metadata": {
    "collapsed": false
   },
   "outputs": [],
   "source": []
  },
  {
   "cell_type": "markdown",
   "metadata": {},
   "source": [
    "This scraped information can then be written to a file or manipulated further."
   ]
  }
 ],
 "metadata": {
  "kernelspec": {
   "display_name": "Python 2",
   "language": "python",
   "name": "python2"
  },
  "language_info": {
   "codemirror_mode": {
    "name": "ipython",
    "version": 2
   },
   "file_extension": ".py",
   "mimetype": "text/x-python",
   "name": "python",
   "nbconvert_exporter": "python",
   "pygments_lexer": "ipython2",
   "version": "2.7.11"
  }
 },
 "nbformat": 4,
 "nbformat_minor": 0
}
