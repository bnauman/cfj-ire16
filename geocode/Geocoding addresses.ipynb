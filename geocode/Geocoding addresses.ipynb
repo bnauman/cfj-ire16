{
 "cells": [
  {
   "cell_type": "code",
   "execution_count": null,
   "metadata": {
    "collapsed": true
   },
   "outputs": [],
   "source": [
    "# PROBLEM: We need coordinates for the addresses we parsed earlier.\n",
    "#\n",
    "# HOW WE'RE GOING TO DEAL WITH IT:\n",
    "#   - Use a library called geopy to run an address through Google's geocoder\n",
    "#   - Use a sleep function to pause so we don't swamp Google\n",
    "#   - Keep track of it all with a keyed dictionary (coming in and going out)\n",
    "#   - Put the original information AND our returned lat/long coordinates into a\n",
    "#     new csv file\n",
    "\n",
    "# Import the Google geocoder from geopy as well as Python's csv and time libaries"
   ]
  },
  {
   "cell_type": "code",
   "execution_count": null,
   "metadata": {
    "collapsed": true
   },
   "outputs": [],
   "source": [
    "from geopy.geocoders import GoogleV3\n",
    "import csv\n",
    "import time"
   ]
  },
  {
   "cell_type": "code",
   "execution_count": null,
   "metadata": {
    "collapsed": true
   },
   "outputs": [],
   "source": [
    "# Make a geolocator object"
   ]
  },
  {
   "cell_type": "code",
   "execution_count": null,
   "metadata": {
    "collapsed": true
   },
   "outputs": [],
   "source": [
    "geolocator = GoogleV3()"
   ]
  },
  {
   "cell_type": "code",
   "execution_count": null,
   "metadata": {
    "collapsed": true
   },
   "outputs": [],
   "source": [
    "# Open our address file and start a DictReader object that will give each element in\n",
    "# each row a key/value pair based on the header columns in the file."
   ]
  },
  {
   "cell_type": "code",
   "execution_count": null,
   "metadata": {
    "collapsed": true
   },
   "outputs": [],
   "source": [
    "address_file = open('payday_lenders.csv', 'rb')\n",
    "input = csv.DictReader(address_file)"
   ]
  },
  {
   "cell_type": "code",
   "execution_count": null,
   "metadata": {
    "collapsed": true
   },
   "outputs": [],
   "source": [
    "# We'll go ahead and set up a new file for our eventual output."
   ]
  },
  {
   "cell_type": "code",
   "execution_count": null,
   "metadata": {
    "collapsed": true
   },
   "outputs": [],
   "source": [
    "geocoded_file = open('payday_geocoded.csv', 'wb')"
   ]
  },
  {
   "cell_type": "code",
   "execution_count": null,
   "metadata": {
    "collapsed": true
   },
   "outputs": [],
   "source": [
    "# For the DictWriter, we have to give it a list of fields from the get-go to establish\n",
    "# the order; we'll go ahead and write a header to the file, too."
   ]
  },
  {
   "cell_type": "code",
   "execution_count": null,
   "metadata": {
    "collapsed": true
   },
   "outputs": [],
   "source": [
    "output_fields = ['NAME', 'DBA', 'STADDR', 'STADDR2', 'CITY', 'STATE', 'ZIP', 'MATCH_ADDR', 'LAT_Y', 'LONG_X']\n",
    "output = csv.DictWriter(geocoded_file, output_fields)\n",
    "output.writeheader()"
   ]
  },
  {
   "cell_type": "code",
   "execution_count": null,
   "metadata": {
    "collapsed": true
   },
   "outputs": [],
   "source": [
    "# Start for loop here"
   ]
  },
  {
   "cell_type": "code",
   "execution_count": null,
   "metadata": {
    "collapsed": true
   },
   "outputs": [],
   "source": [
    "for row in input:\n",
    "    # We're going to put an if/else here to prevent the whole class from launching a\n",
    "    # volley of 500 requests at Google. Let's get the first five (row 1 is the header).\n",
    "    if input.line_num <= 6:\n",
    "        # Put the address in a Google-recognizable string: ADDRESS, CITY, STATE ZIP\n",
    "        addr = (row['STADDR']+' '+row['STADDR2']).strip()+', '+row['CITY']+', '+row['STATE']+' '+row['ZIP']\n",
    "        # Geocode that string\n",
    "        location = geolocator.geocode(addr)\n",
    "        # Plug results from the geocoder right back into the same row of data with new key\n",
    "        # values: the returned latitude, longitude and address Google matched on.\n",
    "        row['LAT_Y'] = location.latitude\n",
    "        row['LONG_X'] = location.longitude\n",
    "        row['MATCH_ADDR'] = location.address\n",
    "        # Write the modified row to our new csv.\n",
    "        output.writerow(row)\n",
    "        # To keep tabs on what's happening, get a printed message with address and line.\n",
    "        print 'Attempted geocode of '+addr+', row '+str(input.line_num)\n",
    "        # Before we do all of this with the next row, pause for two seconds.\n",
    "        time.sleep(2)\n",
    "    else:\n",
    "        break\n",
    "\n",
    "# Alert us with a printed message when this completes and close both files."
   ]
  },
  {
   "cell_type": "code",
   "execution_count": null,
   "metadata": {
    "collapsed": true
   },
   "outputs": [],
   "source": [
    "print 'All done!'\n",
    "address_file.close()\n",
    "geocoded_file.close()"
   ]
  }
 ],
 "metadata": {
  "kernelspec": {
   "display_name": "Python 2",
   "language": "python",
   "name": "python2"
  },
  "language_info": {
   "codemirror_mode": {
    "name": "ipython",
    "version": 2
   },
   "file_extension": ".py",
   "mimetype": "text/x-python",
   "name": "python",
   "nbconvert_exporter": "python",
   "pygments_lexer": "ipython2",
   "version": "2.7.11"
  }
 },
 "nbformat": 4,
 "nbformat_minor": 0
}
