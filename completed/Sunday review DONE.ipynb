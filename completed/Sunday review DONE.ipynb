{
 "cells": [
  {
   "cell_type": "markdown",
   "metadata": {},
   "source": [
    "# Welcome back!\n",
    "\n",
    "We'll warm up with a few exercises based on what we covered yesterday.\n",
    "\n",
    "Define four variables (call them whatever you'd like) in the cell below: a string; a float; a list that has five items (no lists this time around); and a dictionary with the following keys: `name`, `occupation`, `age`."
   ]
  },
  {
   "cell_type": "code",
   "execution_count": 1,
   "metadata": {
    "collapsed": true
   },
   "outputs": [],
   "source": [
    "cool_string = \"I'm really excited to be back here this morning. I went to bed early and got a ton of sleep, which I always do at IRE conferences.\"\n",
    "cool_float = 564.89\n",
    "cool_list = ['New Orleans', 'Louisiana', 'IRE', 8.62, 9]\n",
    "cool_dict = {'name': 'Jack Smith', 'occupation': 'accountant', 'age': 49}"
   ]
  },
  {
   "cell_type": "markdown",
   "metadata": {},
   "source": [
    "Print the string and float variables along with their types."
   ]
  },
  {
   "cell_type": "code",
   "execution_count": 2,
   "metadata": {
    "collapsed": false,
    "scrolled": true
   },
   "outputs": [
    {
     "name": "stdout",
     "output_type": "stream",
     "text": [
      "I'm really excited to be back here this morning. I went to bed early and got a ton of sleep, which I always do at IRE conferences.\n",
      "<type 'str'>\n",
      "564.89\n",
      "<type 'float'>\n"
     ]
    }
   ],
   "source": [
    "print(cool_string)\n",
    "print(type(cool_string))\n",
    "\n",
    "print(cool_float)\n",
    "print(type(cool_float))"
   ]
  },
  {
   "cell_type": "markdown",
   "metadata": {},
   "source": [
    "Print the value associated with the key `age` in the dictionary variable."
   ]
  },
  {
   "cell_type": "code",
   "execution_count": 3,
   "metadata": {
    "collapsed": false
   },
   "outputs": [
    {
     "name": "stdout",
     "output_type": "stream",
     "text": [
      "49\n"
     ]
    }
   ],
   "source": [
    "print(cool_dict['age'])"
   ]
  },
  {
   "cell_type": "markdown",
   "metadata": {},
   "source": [
    "Change the value for key `occupation` to another string of your choice, then try adding another a key and value to it. Print the dictionary."
   ]
  },
  {
   "cell_type": "code",
   "execution_count": 4,
   "metadata": {
    "collapsed": false
   },
   "outputs": [
    {
     "name": "stdout",
     "output_type": "stream",
     "text": [
      "{'city': 'Des Moines', 'age': 49, 'name': 'Jack Smith', 'occupation': 'police officer'}\n"
     ]
    }
   ],
   "source": [
    "cool_dict['occupation'] = 'police officer'\n",
    "cool_dict['city'] = 'Des Moines'\n",
    "print(cool_dict)"
   ]
  },
  {
   "cell_type": "markdown",
   "metadata": {},
   "source": [
    "Write a for loop that takes each item in the list you defined above and prints out an uppercase version of it. (If your list has non-strings, how would you make this work anyway without encountering an error?)"
   ]
  },
  {
   "cell_type": "code",
   "execution_count": 5,
   "metadata": {
    "collapsed": false
   },
   "outputs": [
    {
     "name": "stdout",
     "output_type": "stream",
     "text": [
      "NEW ORLEANS\n",
      "LOUISIANA\n",
      "IRE\n",
      "8.62\n",
      "9\n"
     ]
    }
   ],
   "source": [
    "for thing in cool_list:\n",
    "    print str(thing).upper()"
   ]
  },
  {
   "cell_type": "markdown",
   "metadata": {},
   "source": [
    "Define an empty list called `uppercase_list` and modify your code so that the uppercase versions make their way into the new variable; print `uppercase_list`."
   ]
  },
  {
   "cell_type": "code",
   "execution_count": 6,
   "metadata": {
    "collapsed": false
   },
   "outputs": [
    {
     "name": "stdout",
     "output_type": "stream",
     "text": [
      "['NEW ORLEANS', 'LOUISIANA', 'IRE', '8.62', '9']\n"
     ]
    }
   ],
   "source": [
    "uppercase_list = []\n",
    "\n",
    "for thing in cool_list:\n",
    "    uppercase_list.append(str(thing).upper())\n",
    "    \n",
    "print(uppercase_list)"
   ]
  },
  {
   "cell_type": "markdown",
   "metadata": {},
   "source": [
    "This is great, but it gives us strings whether we need them or not to avoid errors. We could modify the code to check types and assess whether the item is a string and only set it to uppercase if it is."
   ]
  },
  {
   "cell_type": "code",
   "execution_count": 7,
   "metadata": {
    "collapsed": false,
    "scrolled": true
   },
   "outputs": [
    {
     "name": "stdout",
     "output_type": "stream",
     "text": [
      "['NEW ORLEANS', 'LOUISIANA', 'IRE', 8.62, 9]\n"
     ]
    }
   ],
   "source": [
    "uppercase_list = []\n",
    "\n",
    "for thing in cool_list:\n",
    "    if type(thing) == str:\n",
    "        uppercase_list.append(thing.upper())\n",
    "    else:\n",
    "        uppercase_list.append(thing)\n",
    "    \n",
    "print(uppercase_list)"
   ]
  },
  {
   "cell_type": "markdown",
   "metadata": {},
   "source": [
    "### Bonus exercises\n",
    "\n",
    "OK, bonus round for the brave (and assuming we have time):\n",
    "\n",
    "Add a list to your original list variable that contains a few strings and then print the whole thing."
   ]
  },
  {
   "cell_type": "code",
   "execution_count": 8,
   "metadata": {
    "collapsed": false
   },
   "outputs": [
    {
     "name": "stdout",
     "output_type": "stream",
     "text": [
      "['New Orleans', 'Louisiana', 'IRE', 8.62, 9, ['A', 'few', 'strings']]\n"
     ]
    }
   ],
   "source": [
    "cool_list.append(['A', 'few', 'strings'])\n",
    "print(cool_list)"
   ]
  },
  {
   "cell_type": "markdown",
   "metadata": {},
   "source": [
    "See if you can modify the code even further to add a new case (using `elif`) to identify a list, make the items uppercase and then add them into `uppercase_list` just as they were (inside of a list)."
   ]
  },
  {
   "cell_type": "code",
   "execution_count": 9,
   "metadata": {
    "collapsed": false
   },
   "outputs": [
    {
     "name": "stdout",
     "output_type": "stream",
     "text": [
      "['NEW ORLEANS', 'LOUISIANA', 'IRE', 8.62, 9, ['A', 'FEW', 'STRINGS']]\n"
     ]
    }
   ],
   "source": [
    "uppercase_list = []\n",
    "\n",
    "for thing in cool_list:\n",
    "    if type(thing) == str:\n",
    "        uppercase_list.append(thing.upper())\n",
    "    elif type(thing) == list:\n",
    "        holder = []\n",
    "        for item in thing:\n",
    "            holder.append(item.upper())\n",
    "        uppercase_list.append(holder)\n",
    "    else:\n",
    "        uppercase_list.append(thing)\n",
    "    \n",
    "print(uppercase_list)"
   ]
  },
  {
   "cell_type": "markdown",
   "metadata": {},
   "source": [
    "Print the types of all the items in `uppercase_list` to make sure they came through intact."
   ]
  },
  {
   "cell_type": "code",
   "execution_count": 10,
   "metadata": {
    "collapsed": false
   },
   "outputs": [
    {
     "name": "stdout",
     "output_type": "stream",
     "text": [
      "<type 'str'>\n",
      "<type 'str'>\n",
      "<type 'str'>\n",
      "<type 'float'>\n",
      "<type 'int'>\n",
      "<type 'list'>\n"
     ]
    }
   ],
   "source": [
    "for item in uppercase_list:\n",
    "    print(type(item))"
   ]
  },
  {
   "cell_type": "markdown",
   "metadata": {},
   "source": [
    "Write a function that takes one argment — a dictionary — and is designed to print out each key and it's value as part of a sentence, like \"The key is `blah` and the value is `whatever`.\" Run it on the dictionary you created earlier."
   ]
  },
  {
   "cell_type": "code",
   "execution_count": 11,
   "metadata": {
    "collapsed": false
   },
   "outputs": [
    {
     "name": "stdout",
     "output_type": "stream",
     "text": [
      "The key is city and the value is Des Moines.\n",
      "The key is age and the value is 49.\n",
      "The key is name and the value is Jack Smith.\n",
      "The key is occupation and the value is police officer.\n"
     ]
    }
   ],
   "source": [
    "def dict_info(dictionary):\n",
    "    for item in dictionary:\n",
    "        print(\"The key is {0} and the value is {1}.\".format(item, dictionary[item]))\n",
    "        \n",
    "dict_info(cool_dict)"
   ]
  }
 ],
 "metadata": {
  "kernelspec": {
   "display_name": "Python 2",
   "language": "python",
   "name": "python2"
  },
  "language_info": {
   "codemirror_mode": {
    "name": "ipython",
    "version": 2
   },
   "file_extension": ".py",
   "mimetype": "text/x-python",
   "name": "python",
   "nbconvert_exporter": "python",
   "pygments_lexer": "ipython2",
   "version": "2.7.11"
  }
 },
 "nbformat": 4,
 "nbformat_minor": 0
}
