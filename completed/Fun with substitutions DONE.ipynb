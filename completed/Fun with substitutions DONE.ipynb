{
 "cells": [
  {
   "cell_type": "markdown",
   "metadata": {},
   "source": [
    "# Fun with substitutions\n",
    "\n",
    "We deal with substitutions a lot when coding for journalism; a lot of the work we outsource to the computer involves reformatting information to get it into an analyzable state, just like some of the data reshaping and cleaning you've done in the past. It also saves you from having to type the same thing again and again.\n",
    "\n",
    "So here are some strings with a similar structure:"
   ]
  },
  {
   "cell_type": "code",
   "execution_count": 1,
   "metadata": {
    "collapsed": true
   },
   "outputs": [],
   "source": [
    "some_string = \"Alex is in Chicago, writing some code.\"\n",
    "some_other_string = \"John is in the park, feeding some birds.\"\n",
    "and_another_string = \"Sandra is in Austin, hiring some new people.\"\n",
    "promise_last_string = \"Jenny is in the newsroom, editing some stories.\""
   ]
  },
  {
   "cell_type": "markdown",
   "metadata": {},
   "source": [
    "Kind of redundant, right? The idea is that you can weave in information from other variables into a string with substitution; it's kind of like Madlibs. This is a process you'll likely repeat in your own scripts to get the output looking the way you want it to.\n",
    "\n",
    "Here's one way to do it, briefly: `%s` variables with strings and `%d` for variables with numbers, then referencing which variables you want to swap into the string after a `%`:\n",
    "\n",
    "```\n",
    "print('Some string, some %s string.' % a_variable)\n",
    "```"
   ]
  },
  {
   "cell_type": "code",
   "execution_count": 2,
   "metadata": {
    "collapsed": false
   },
   "outputs": [
    {
     "name": "stdout",
     "output_type": "stream",
     "text": [
      "Where is Robby?\n",
      "Robby is 47 years old.\n"
     ]
    }
   ],
   "source": [
    "name = 'Robby'\n",
    "print('Where is %s?' % name)\n",
    "\n",
    "age = 47\n",
    "print('%s is %d years old.' % (name, age))"
   ]
  },
  {
   "cell_type": "markdown",
   "metadata": {},
   "source": [
    "Alas, this format of substitution is being depreciated for a similar method: a string method called `.format()` that gives you a bit more control."
   ]
  },
  {
   "cell_type": "code",
   "execution_count": 3,
   "metadata": {
    "collapsed": false
   },
   "outputs": [
    {
     "name": "stdout",
     "output_type": "stream",
     "text": [
      "Where is Robby?\n"
     ]
    }
   ],
   "source": [
    "print('Where is {}?'.format(name))"
   ]
  },
  {
   "cell_type": "markdown",
   "metadata": {},
   "source": [
    "The brackets can be empty, in which case variables will be returned in whatever order they were given. Putting numbers in the brackets let you specify index position."
   ]
  },
  {
   "cell_type": "code",
   "execution_count": 4,
   "metadata": {
    "collapsed": false
   },
   "outputs": [
    {
     "name": "stdout",
     "output_type": "stream",
     "text": [
      "Robby is 47 years old.\n"
     ]
    }
   ],
   "source": [
    "print('{1} is {0} years old.'.format(age, name))"
   ]
  },
  {
   "cell_type": "markdown",
   "metadata": {},
   "source": [
    "The really nice thing about `.format()`? You can repeat variables when necessary."
   ]
  },
  {
   "cell_type": "code",
   "execution_count": 5,
   "metadata": {
    "collapsed": false
   },
   "outputs": [
    {
     "name": "stdout",
     "output_type": "stream",
     "text": [
      "Where's Robby, that adorable 47-year-old? Oh, there's Robby.\n"
     ]
    }
   ],
   "source": [
    "print(\"Where's {0}, that adorable {1}-year-old? Oh, there's {0}.\".format(name, age))"
   ]
  },
  {
   "cell_type": "markdown",
   "metadata": {},
   "source": [
    "So coming back to our strings from the top of the notebook — with substitution, we could handle printing all those strings above with a loop fed by lists.\n",
    "\n",
    "We can make the lists below:"
   ]
  },
  {
   "cell_type": "code",
   "execution_count": 6,
   "metadata": {
    "collapsed": true
   },
   "outputs": [],
   "source": [
    "names = ['Alex', 'John', 'Sandra', 'Jenny']\n",
    "locs = ['Chicago', 'the park', 'Austin', 'an office']\n",
    "actions = ['writing', 'feeding', 'hiring', 'editing']\n",
    "stuff = ['code', 'birds', 'new people', 'stories']"
   ]
  },
  {
   "cell_type": "markdown",
   "metadata": {},
   "source": [
    "And then write the loop:"
   ]
  },
  {
   "cell_type": "code",
   "execution_count": 7,
   "metadata": {
    "collapsed": false
   },
   "outputs": [
    {
     "name": "stdout",
     "output_type": "stream",
     "text": [
      "Alex is in Chicago, writing some code.\n",
      "John is in the park, feeding some birds.\n",
      "Sandra is in Austin, hiring some new people.\n",
      "Jenny is in an office, editing some stories.\n"
     ]
    }
   ],
   "source": [
    "for x in range(0, len(names)):\n",
    "    print(\"{0} is in {1}, {2} some {3}.\".format(names[x], locs[x], actions[x], stuff[x]))"
   ]
  },
  {
   "cell_type": "markdown",
   "metadata": {},
   "source": [
    "And if we wanted to add to these four categories:"
   ]
  },
  {
   "cell_type": "code",
   "execution_count": 8,
   "metadata": {
    "collapsed": true
   },
   "outputs": [],
   "source": [
    "names.append('Roger')\n",
    "locs.append('Pasadena')\n",
    "actions.append('baking')\n",
    "stuff.append('cookies')"
   ]
  },
  {
   "cell_type": "markdown",
   "metadata": {},
   "source": [
    "Let's print just the last thing in each of those lists."
   ]
  },
  {
   "cell_type": "code",
   "execution_count": 9,
   "metadata": {
    "collapsed": false
   },
   "outputs": [
    {
     "name": "stdout",
     "output_type": "stream",
     "text": [
      "Roger is in Pasadena, baking some cookies.\n"
     ]
    }
   ],
   "source": [
    "print(\"{0} is in {1}, {2} some {3}.\".format(names[-1], locs[-1], actions[-1], stuff[-1]))"
   ]
  }
 ],
 "metadata": {
  "kernelspec": {
   "display_name": "Python 2",
   "language": "python",
   "name": "python2"
  },
  "language_info": {
   "codemirror_mode": {
    "name": "ipython",
    "version": 2
   },
   "file_extension": ".py",
   "mimetype": "text/x-python",
   "name": "python",
   "nbconvert_exporter": "python",
   "pygments_lexer": "ipython2",
   "version": "2.7.11"
  }
 },
 "nbformat": 4,
 "nbformat_minor": 0
}
